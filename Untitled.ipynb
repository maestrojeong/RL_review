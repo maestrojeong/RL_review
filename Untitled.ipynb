{
 "cells": [
  {
   "cell_type": "markdown",
   "metadata": {},
   "source": [
    "# Imitaion learning paper review\n",
    "1. A Reduction of Imitation learning and Structured Prediction to No-regret Online learning\n",
    "2. Efficient Reductions for Imitation learning"
   ]
  },
  {
   "cell_type": "markdown",
   "metadata": {},
   "source": [
    "# Background\n",
    "Imitation learning은 그 동안 supervised learning problem로 생각하고 풀어왔다. 하지만, 이는 각각의 training set과 test set 들이 i.i.d(identical independent  distribution) 조건을 따른다고 가정했을 때 supervised learning problem으로 생각하고 풀 수 있지만, 실제로 test input들로 주어지는 것들을 현재 policy에 depencent 하게 바뀌기 때문에 불가능하다."
   ]
  },
  {
   "cell_type": "markdown",
   "metadata": {},
   "source": [
    "# Problem setting"
   ]
  },
  {
   "cell_type": "markdown",
   "metadata": {},
   "source": [
    "$\\pi^*$ : the policy of expert  \n",
    "$\\pi_s$ : policy에 따른 state $s$에 대한 actions 의 distributions "
   ]
  },
  {
   "cell_type": "markdown",
   "metadata": {},
   "source": [
    "$C(s,a) \\in [0,1]$ : state $s$에서 action $a$를 수행했을 때 생긴 immediate cost.  \n",
    "$C_{\\pi}(s) = E_{a\\sim \\pi_s}[C(s,a)]$ : state $s$ 에서 policy $\\pi$로 수행했을 때 생긴 immediate cost의 expectation value."
   ]
  }
 ],
 "metadata": {
  "anaconda-cloud": {},
  "kernelspec": {
   "display_name": "Python [default]",
   "language": "python",
   "name": "python3"
  },
  "language_info": {
   "codemirror_mode": {
    "name": "ipython",
    "version": 3
   },
   "file_extension": ".py",
   "mimetype": "text/x-python",
   "name": "python",
   "nbconvert_exporter": "python",
   "pygments_lexer": "ipython3",
   "version": "3.5.2"
  }
 },
 "nbformat": 4,
 "nbformat_minor": 1
}
